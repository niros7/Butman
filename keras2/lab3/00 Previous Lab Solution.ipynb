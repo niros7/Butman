{
 "cells": [
  {
   "cell_type": "code",
   "execution_count": 10,
   "metadata": {},
   "outputs": [
    {
     "name": "stdout",
     "output_type": "stream",
     "text": [
      "Extracting MNIST_data/train-images-idx3-ubyte.gz\n",
      "Extracting MNIST_data/train-labels-idx1-ubyte.gz\n",
      "Extracting MNIST_data/t10k-images-idx3-ubyte.gz\n",
      "Extracting MNIST_data/t10k-labels-idx1-ubyte.gz\n",
      "Validation accuracy for epoch 1 is: 0.912800014019\n",
      "Validation accuracy for epoch 2 is: 0.926599979401\n",
      "Validation accuracy for epoch 3 is: 0.934199988842\n",
      "Validation accuracy for epoch 4 is: 0.94319999218\n",
      "Validation accuracy for epoch 5 is: 0.944599986076\n",
      "Validation accuracy for epoch 6 is: 0.952799975872\n",
      "Validation accuracy for epoch 7 is: 0.951200008392\n",
      "Validation accuracy for epoch 8 is: 0.950800001621\n",
      "Validation accuracy for epoch 9 is: 0.957799971104\n",
      "Validation accuracy for epoch 10 is: 0.955999970436\n"
     ]
    },
    {
     "data": {
      "image/png": "[encoded data removed]",
      "text/plain": [
       "<matplotlib.figure.Figure at 0x10ea6b310>"
      ]
     },
     "metadata": {},
     "output_type": "display_data"
    }
   ],
   "source": [
    "import tensorflow as tf\n",
    "import tensorflow.examples.tutorials.mnist.input_data as input_data\n",
    "import numpy as np\n",
    "import matplotlib.pyplot as plt\n",
    "\n",
    "mnist = input_data.read_data_sets('MNIST_data/', one_hot=True)\n",
    "n_input = 784\n",
    "n_output = 10\n",
    "net_input = tf.placeholder(tf.float32, [None, n_input])\n",
    "y_true = tf.placeholder(tf.float32, [None, 10])\n",
    "\n",
    "# experiment with different architectures (amount of layers, size of layers, activation function, etc.)\n",
    "hidden_size = 256\n",
    "W1 = tf.Variable(tf.truncated_normal([n_input, hidden_size]))\n",
    "b1 = tf.Variable(tf.truncated_normal([hidden_size]))\n",
    "W2 = tf.Variable(tf.truncated_normal([hidden_size, n_output]))\n",
    "b2 = tf.Variable(tf.truncated_normal([n_output]))\n",
    "net_output = tf.nn.relu(tf.matmul(net_input, W1) + b1)  # try sigmoid, tanh, etc.\n",
    "net_output = tf.nn.dropout(net_output, 0.9)  # try different dropout (this is the % to keep units)\n",
    "net_output = (tf.matmul(net_output, W2) + b2)\n",
    "\n",
    "correct_prediction = tf.equal(tf.argmax(net_output, 1), tf.argmax(y_true, 1))\n",
    "accuracy = tf.reduce_mean(tf.cast(correct_prediction, \"float\"))\n",
    "cost = tf.reduce_sum(tf.nn.softmax_cross_entropy_with_logits(logits=net_output, labels=y_true))\n",
    "\n",
    "eta = 0.01  # try different values here [0.0001,...,0.1]\n",
    "\n",
    "# you can experiment with different optimizers\n",
    "optimizer = tf.train.AdamOptimizer(eta).minimize(cost)\n",
    "# optimizer = tf.train.GradientDescentOptimizer(eta).minimize(cost)\n",
    "# optimizer = tf.train.RMSPropOptimizer(eta).minimize(cost)\n",
    "\n",
    "sess = tf.Session()\n",
    "sess.run(tf.global_variables_initializer())\n",
    "l_loss = list()\n",
    "\n",
    "batch_size = 100  # see how batch size influences the learning process\n",
    "n_epochs = 10  # see how many epochs are needed to learn, when over-fitting occurs\n",
    "for epoch_i in range(n_epochs):\n",
    "    for batch_i in range(0, mnist.train.num_examples, batch_size):\n",
    "        batch_xs, batch_ys = mnist.train.next_batch(batch_size)\n",
    "        sess.run(optimizer, feed_dict={\n",
    "            net_input: batch_xs,\n",
    "            y_true: batch_ys\n",
    "        })\n",
    "    loss = sess.run(accuracy, feed_dict={\n",
    "                       net_input: mnist.validation.images,\n",
    "                       y_true: mnist.validation.labels })\n",
    "    print('Validation accuracy for epoch {} is: {}'.format(epoch_i + 1, loss))\n",
    "    l_loss.append(loss)\n",
    "\n",
    "plt.title('NN Acuracy')\n",
    "plt.ylabel('Accuracy')\n",
    "plt.xlabel('Epochs')\n",
    "plt.plot(l_loss, color='m')\n",
    "plt.show()"
   ]
  },
  {
   "cell_type": "code",
   "execution_count": null,
   "metadata": {
    "collapsed": true
   },
   "outputs": [],
   "source": []
  }
 ],
 "metadata": {
  "kernelspec": {
   "display_name": "Python [conda root]",
   "language": "python",
   "name": "conda-root-py"
  },
  "language_info": {
   "codemirror_mode": {
    "name": "ipython",
    "version": 2
   },
   "file_extension": ".py",
   "mimetype": "text/x-python",
   "name": "python",
   "nbconvert_exporter": "python",
   "pygments_lexer": "ipython2",
   "version": "2.7.13"
  }
 },
 "nbformat": 4,
 "nbformat_minor": 2
}
